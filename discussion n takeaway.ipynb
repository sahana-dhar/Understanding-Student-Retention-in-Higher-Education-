{
 "cells": [
  {
   "cell_type": "markdown",
   "metadata": {},
   "source": [
    "## Discussion\n",
    "\n",
    "**interpret your results in the application context. Determine if you found solutions to your questions of interest and explain why/why not. Critique your results; should they be accepted at face value or were some assumptions made inappropriate? What actions should be taken (if any) as a result of the analysis, and how confident are you in these actions? What questions that were unanticipated arose from the analysis, and what should future work/analyses focus on?**\n",
    "\n",
    "The random forest regressor identified that SAT scores, faculty salary, and earnings 6 years after entry were the most impactful features on retention rate. The model performed well, with an R^2 of approximately 0.60, indicating that around 59% of the variance in retention rate can be explained by the chosen features. The scatter plots and residual analysis confirmed the model's ability at capturing trends in the data and making relatively accurate predictions. Linear regression reinforced the importance of SAT scores and faculty, with the share of first-generation students also showing an impact on retention rate. The multiple linear regression model allows for multiple X predictor variables, which is ideal for this analysis. The model yielded an R^2 of about 0.66, indicating that the model assumptions were met, with an even distribtion of residuals and no clear pattern shown in them. The scatter plots and residual plots portrayed that the model predictions aligned fairly well with the actual retention rates. \n",
    "\n",
    "Both models assumed a linear relationship between features and the target variable. While the models performed well, it's significant to note that potential non-linear trends may exist. The analysis can only perform as well as the available data it is given, and the accuracy of the predictions depend on the features considered. Other factors not included in the dataset could also influence retention rates. Multiple observations were removed due to containing null values, meaning that the dataset was limited and may have benefited from a higher number of observed colleges. The models provide valuable insights for universities to focus on, such as improving SAT scores, faculty salaries, support for first-generation students, and career intiatives to increase earnings 6 years after entry. These efforts may enhance retention rates across universities. Regularly updating the models witht the latest data can improve accuracy and adaptability to the changing landscape in higher education. Further analyses could explore non-linear relationshiops, geographical variations, and the impact of specific initiatives and intervention on retention."
   ]
  },
  {
   "cell_type": "markdown",
   "metadata": {},
   "source": [
    "# TAKEAWAY"
   ]
  },
  {
   "cell_type": "markdown",
   "metadata": {},
   "source": [
    "This project underscores the importance of specific factors, such as SAT scores, faculty salary, share of first-generation students, and earnings 6 years after entry in influencing retention rates in universities. The machine learning models utilized offer predictive capabilities and obtainable insights for universities aiming to address retention challenges. However, it is essential to approach the results with an understanding of the possible complexities and the need for ongoing analysis to improve strategies and implementations."
   ]
  }
 ],
 "metadata": {
  "kernelspec": {
   "display_name": "Python 3 (ipykernel)",
   "language": "python",
   "name": "python3"
  },
  "language_info": {
   "codemirror_mode": {
    "name": "ipython",
    "version": 3
   },
   "file_extension": ".py",
   "mimetype": "text/x-python",
   "name": "python",
   "nbconvert_exporter": "python",
   "pygments_lexer": "ipython3",
   "version": "3.9.13"
  }
 },
 "nbformat": 4,
 "nbformat_minor": 2
}
