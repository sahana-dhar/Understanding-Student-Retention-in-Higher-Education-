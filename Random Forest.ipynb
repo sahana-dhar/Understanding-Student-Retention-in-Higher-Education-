{
 "cells": [
  {
   "cell_type": "code",
   "execution_count": 1,
   "id": "e050a98b",
   "metadata": {},
   "outputs": [
    {
     "ename": "NameError",
     "evalue": "name 'df_standardized' is not defined",
     "output_type": "error",
     "traceback": [
      "\u001b[1;31m---------------------------------------------------------------------------\u001b[0m",
      "\u001b[1;31mNameError\u001b[0m                                 Traceback (most recent call last)",
      "\u001b[1;32m~\\AppData\\Local\\Temp\\ipykernel_20996\\3965220122.py\u001b[0m in \u001b[0;36m<module>\u001b[1;34m\u001b[0m\n\u001b[0;32m      4\u001b[0m \u001b[1;33m\u001b[0m\u001b[0m\n\u001b[0;32m      5\u001b[0m \u001b[1;31m# Creating a DataFrame with only the selected features\u001b[0m\u001b[1;33m\u001b[0m\u001b[1;33m\u001b[0m\u001b[0m\n\u001b[1;32m----> 6\u001b[1;33m \u001b[0mX\u001b[0m \u001b[1;33m=\u001b[0m \u001b[0mdf_standardized\u001b[0m\u001b[1;33m[\u001b[0m\u001b[0mrf_features\u001b[0m\u001b[1;33m]\u001b[0m\u001b[1;33m\u001b[0m\u001b[1;33m\u001b[0m\u001b[0m\n\u001b[0m\u001b[0;32m      7\u001b[0m \u001b[1;33m\u001b[0m\u001b[0m\n\u001b[0;32m      8\u001b[0m \u001b[1;31m# Splitting the data\u001b[0m\u001b[1;33m\u001b[0m\u001b[1;33m\u001b[0m\u001b[0m\n",
      "\u001b[1;31mNameError\u001b[0m: name 'df_standardized' is not defined"
     ]
    }
   ],
   "source": [
    "import seaborn as sns\n",
    "# Selecting the top 3 random forest features\n",
    "rf_features = ['SAT', 'Faculty Salary', 'Earnings 6 yrs after entry']\n",
    "\n",
    "# Creating a DataFrame with only the selected features\n",
    "X = df_standardized[rf_features]\n",
    "\n",
    "# Splitting the data\n",
    "X_train, X_test, y_train, y_test = train_test_split(X, y, test_size=0.2, random_state=42)\n",
    "\n",
    "# Creating a Random Forest Regressor object to model the data\n",
    "rf_model = RandomForestRegressor(n_estimators=100, random_state=42)\n",
    "\n",
    "# Fitting the model\n",
    "rf_model.fit(X_train, y_train)\n",
    "\n",
    "# Feature Importances\n",
    "feature_importances = rf_model.feature_importances_\n",
    "\n",
    "# Creating a DataFrame to visualize feature importances\n",
    "feature_importance_df = pd.DataFrame({'Feature': rf_features, 'Importance': feature_importances})\n",
    "\n",
    "# Sorting the DataFrame by importance in descending order\n",
    "feature_importance_df = feature_importance_df.sort_values(by='Importance', ascending=False)\n",
    "\n",
    "# Plotting the feature importances\n",
    "plt.figure(figsize=(10, 6))\n",
    "sns.barplot(x='Importance', y='Feature', data=feature_importance_df_selected, palette='viridis')\n",
    "plt.xlabel('Importance')\n",
    "plt.ylabel('Feature')\n",
    "plt.title('Feature Importance for Random Forest (Top 3 Features)')\n",
    "plt.show()\n",
    "\n",
    "# Predictions and Residuals\n",
    "y_pred = rf_model.predict(X_test)\n",
    "residuals_selected = y_test - y_pred\n",
    "\n",
    "# Visualizing predicted vs. actual values\n",
    "plt.scatter(y_test, y_pred_selected)\n",
    "plt.xlabel(\"Actual Retention Rate\")\n",
    "plt.ylabel(\"Predicted Retention Rate\")\n",
    "plt.title(\"Actual vs. Predicted Retention Rate for Random Forest (Top 3 Features)\")\n",
    "\n",
    "# Calculate R2, MSE, and MAE\n",
    "mse_selected = mean_squared_error(y_test, y_pred)\n",
    "r2_selected = r2_score(y_test, y_pred)\n",
    "mae_selected = mean_absolute_error(y_test, y_pred)\n",
    "\n",
    "# Display R2, MSE, and MAE\n",
    "result_text = f'R-squared (R2): {r2_selected:.4f}\\nMean Squared Error (MSE): {mse_selected:.4f}\\nMean Absolute Error (MAE): {mae_selected:.4f}'\n",
    "plt.figtext(0.5, -0.1, result_text, ha='center', fontsize=12, bbox=dict(facecolor='white', alpha=0.5))\n",
    "plt.show()\n",
    "\n",
    "# Visualizing Residuals\n",
    "plt.scatter(y_pred_selected, residuals_selected)\n",
    "plt.axhline(y=0, color='r', linestyle='--')\n",
    "plt.xlabel(\"Predicted Retention Rate\")\n",
    "plt.ylabel(\"Residuals\")\n",
    "plt.title(\"Residuals for Random Forest (Top 3 Features)\")\n",
    "plt.show()"
   ]
  }
 ],
 "metadata": {
  "kernelspec": {
   "display_name": "Python 3 (ipykernel)",
   "language": "python",
   "name": "python3"
  },
  "language_info": {
   "codemirror_mode": {
    "name": "ipython",
    "version": 3
   },
   "file_extension": ".py",
   "mimetype": "text/x-python",
   "name": "python",
   "nbconvert_exporter": "python",
   "pygments_lexer": "ipython3",
   "version": "3.9.13"
  }
 },
 "nbformat": 4,
 "nbformat_minor": 5
}
